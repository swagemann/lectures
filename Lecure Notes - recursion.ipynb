{
 "cells": [
  {
   "cell_type": "markdown",
   "metadata": {},
   "source": [
    "# Recursion in Python\n"
   ]
  },
  {
   "cell_type": "markdown",
   "metadata": {},
   "source": [
    "## Introduction\n"
   ]
  },
  {
   "cell_type": "markdown",
   "metadata": {},
   "source": [
    "Recursion: the process of defining something in terms of itself\n",
    "\n",
    "Recursion is strange from a logic standpoint\n",
    "- Food tastes like itself\n",
    "- Definition of word contains word being defined\n",
    "\n",
    "Recursion makes more sense from a process or function standpoint\n",
    "- Anti vaxx quarantine example\n",
    "\n",
    "Common examples of recursion for programming\n",
    "- Factorial\n",
    "- Fibonacci\n",
    "- Tower of Hanoi\n"
   ]
  },
  {
   "cell_type": "markdown",
   "metadata": {},
   "source": [
    "\n",
    "\n",
    "## Factorial Example"
   ]
  },
  {
   "cell_type": "markdown",
   "metadata": {},
   "source": [
    "n! = n * (n−1) * (n−2) * (n−3) ... * 3 * 2 * 1\n",
    "\n",
    "5! = 5*4*3*2*1\n",
    "\n",
    "n! = n * (n−1)!\n",
    "\n",
    "Recurrence Relation - recurrence relations use recursion\n"
   ]
  },
  {
   "cell_type": "code",
   "execution_count": 13,
   "metadata": {},
   "outputs": [],
   "source": [
    "def factorial_func(n):\n",
    "    # n is an integer greater than zero\n",
    "    \n",
    "    # base case\n",
    "    if n == 1: \n",
    "        return 1\n",
    "    \n",
    "    # recursive case\n",
    "    else: \n",
    "        return n * recursion_func(n-1)\n",
    "    "
   ]
  },
  {
   "cell_type": "code",
   "execution_count": 14,
   "metadata": {},
   "outputs": [
    {
     "data": {
      "text/plain": [
       "24"
      ]
     },
     "execution_count": 14,
     "metadata": {},
     "output_type": "execute_result"
    }
   ],
   "source": [
    "factorial_func(4)"
   ]
  }
 ],
 "metadata": {
  "kernelspec": {
   "display_name": "Python 3",
   "language": "python",
   "name": "python3"
  },
  "language_info": {
   "codemirror_mode": {
    "name": "ipython",
    "version": 3
   },
   "file_extension": ".py",
   "mimetype": "text/x-python",
   "name": "python",
   "nbconvert_exporter": "python",
   "pygments_lexer": "ipython3",
   "version": "3.7.2"
  }
 },
 "nbformat": 4,
 "nbformat_minor": 2
}
