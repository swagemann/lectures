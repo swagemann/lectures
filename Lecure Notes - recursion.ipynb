{
 "cells": [
  {
   "cell_type": "markdown",
   "metadata": {},
   "source": [
    "# Recursion in Python\n"
   ]
  },
  {
   "cell_type": "markdown",
   "metadata": {},
   "source": [
    "## Basic Concept\n"
   ]
  },
  {
   "cell_type": "markdown",
   "metadata": {},
   "source": [
    "Strange from a logic standpoint\n",
    "- Food tastes like itself\n",
    "- Definition of word contains word being defined\n",
    "\n",
    "Real Life Example\n",
    "2. Anti vaxx quarantine example\n"
   ]
  },
  {
   "cell_type": "markdown",
   "metadata": {},
   "source": [
    "## Factorial Example"
   ]
  },
  {
   "cell_type": "markdown",
   "metadata": {},
   "source": [
    "n! = n x (n−1) x (n−2) x (n−3) ⋅⋅⋅⋅ * 3 * 2 * 1\n",
    "\n",
    "5! = 5*4*3*2*1\n",
    "\n",
    "n! = n * (n−1)!\n",
    "\n",
    "Recurrence Relation - recurrence relations use recursion\n"
   ]
  },
  {
   "cell_type": "code",
   "execution_count": 13,
   "metadata": {},
   "outputs": [],
   "source": [
    "def recursion_func(n):\n",
    "    # n is an integer greater than zero\n",
    "    \n",
    "    # base case\n",
    "    if n == 1: \n",
    "        return 1\n",
    "    \n",
    "    # recursive case\n",
    "    else: \n",
    "        return n * recursion_func(n-1)\n",
    "    "
   ]
  },
  {
   "cell_type": "code",
   "execution_count": 14,
   "metadata": {},
   "outputs": [
    {
     "data": {
      "text/plain": [
       "24"
      ]
     },
     "execution_count": 14,
     "metadata": {},
     "output_type": "execute_result"
    }
   ],
   "source": [
    "recursion_func(4)"
   ]
  }
 ],
 "metadata": {
  "kernelspec": {
   "display_name": "Python 3",
   "language": "python",
   "name": "python3"
  },
  "language_info": {
   "codemirror_mode": {
    "name": "ipython",
    "version": 3
   },
   "file_extension": ".py",
   "mimetype": "text/x-python",
   "name": "python",
   "nbconvert_exporter": "python",
   "pygments_lexer": "ipython3",
   "version": "3.7.2"
  }
 },
 "nbformat": 4,
 "nbformat_minor": 2
}
