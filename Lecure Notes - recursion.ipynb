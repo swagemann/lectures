{
 "cells": [
  {
   "cell_type": "markdown",
   "metadata": {},
   "source": [
    "# Recursion in Python\n"
   ]
  },
  {
   "cell_type": "markdown",
   "metadata": {},
   "source": [
    "## Introduction\n"
   ]
  },
  {
   "cell_type": "markdown",
   "metadata": {},
   "source": [
    "Recursion: the process of defining something in terms of itself\n",
    "\n",
    "Recursion is strange from a logic standpoint\n",
    "- Food tastes like itself\n",
    "- Definition of word contains word being defined\n",
    "\n",
    "Recursion makes more sense from a process or function standpoint\n",
    "- Anti vaxx quarantine example\n",
    "\n",
    "Common examples of recursion for programming\n",
    "- Factorial\n",
    "- Fibonacci\n",
    "- Tower of Hanoi\n"
   ]
  },
  {
   "cell_type": "markdown",
   "metadata": {},
   "source": [
    "\n",
    "\n",
    "## Factorial with Recursion Example"
   ]
  },
  {
   "cell_type": "markdown",
   "metadata": {},
   "source": [
    "n! = n * (n−1) * (n−2) * (n−3) ... * 3 * 2 * 1\n",
    "\n",
    "5! = 5 \\* 4 \\* 3 \\* 2 \\* 1\n",
    "\n",
    "n! = n * (n−1)!\n",
    "\n",
    "Recurrence Relation - recurrence relations use recursion\n"
   ]
  },
  {
   "cell_type": "code",
   "execution_count": 17,
   "metadata": {},
   "outputs": [],
   "source": [
    "def factorial_recursion_func(n):\n",
    "    # n is an integer greater than zero\n",
    "    \n",
    "    # base case\n",
    "    if n == 1: \n",
    "        return 1\n",
    "    \n",
    "    # recursive case\n",
    "    else: \n",
    "        return n * factorial_recursion_func(n-1)\n",
    "    "
   ]
  },
  {
   "cell_type": "code",
   "execution_count": 149,
   "metadata": {},
   "outputs": [
    {
     "data": {
      "text/plain": [
       "1124000727777607680000"
      ]
     },
     "execution_count": 149,
     "metadata": {},
     "output_type": "execute_result"
    }
   ],
   "source": [
    "factorial_recursion_func(22)"
   ]
  },
  {
   "cell_type": "markdown",
   "metadata": {},
   "source": [
    "\n",
    "## Factorial without Recursion Example"
   ]
  },
  {
   "cell_type": "code",
   "execution_count": 174,
   "metadata": {},
   "outputs": [
    {
     "name": "stdout",
     "output_type": "stream",
     "text": [
      "Requirement already satisfied: numpy in c:\\users\\camal\\appdata\\local\\programs\\python\\python37\\lib\\site-packages (1.16.2)\n"
     ]
    }
   ],
   "source": [
    "# load packages\n",
    "import sys\n",
    "!{sys.executable} -m pip install numpy\n",
    "import numpy as np\n",
    "import time\n"
   ]
  },
  {
   "cell_type": "code",
   "execution_count": 150,
   "metadata": {},
   "outputs": [],
   "source": [
    "def factorial_func(n):\n",
    "    # n is an integer greater than zero\n",
    "    \n",
    "    seq = np.array(range(1, n+1), dtype=object)\n",
    "    output = np.cumprod(seq)\n",
    "    return output[-1]"
   ]
  },
  {
   "cell_type": "code",
   "execution_count": 148,
   "metadata": {},
   "outputs": [
    {
     "data": {
      "text/plain": [
       "1124000727777607680000"
      ]
     },
     "execution_count": 148,
     "metadata": {},
     "output_type": "execute_result"
    }
   ],
   "source": [
    "factorial_func(22)"
   ]
  },
  {
   "cell_type": "markdown",
   "metadata": {},
   "source": [
    "\n",
    "## Recursion vs Vector Speed Comparison"
   ]
  },
  {
   "cell_type": "code",
   "execution_count": 171,
   "metadata": {},
   "outputs": [
    {
     "name": "stdout",
     "output_type": "stream",
     "text": [
      "8784\n",
      "8784\n"
     ]
    }
   ],
   "source": [
    "value = 2900\n",
    "print(len(str(factorial_recursion_func(value))))\n",
    "print(len(str(factorial_func(value))))"
   ]
  },
  {
   "cell_type": "code",
   "execution_count": 172,
   "metadata": {},
   "outputs": [
    {
     "name": "stdout",
     "output_type": "stream",
     "text": [
      "8784\n",
      "0.003989219665527344\n"
     ]
    }
   ],
   "source": [
    "# Recursion Speed\n",
    "start_time = time.time()\n",
    "f = factorial_recursion_func(value)\n",
    "print(len(str(f)))\n",
    "elapsed_time = time.time() - start_time\n",
    "print(elapsed_time)"
   ]
  },
  {
   "cell_type": "code",
   "execution_count": 173,
   "metadata": {},
   "outputs": [
    {
     "name": "stdout",
     "output_type": "stream",
     "text": [
      "8784\n",
      "0.00500035285949707\n"
     ]
    }
   ],
   "source": [
    "# Vector Speed with Numpy\n",
    "start_time = time.time()\n",
    "f = factorial_func(value)\n",
    "print(len(str(f)))\n",
    "elapsed_time = time.time() - start_time\n",
    "print(elapsed_time)"
   ]
  },
  {
   "cell_type": "markdown",
   "metadata": {},
   "source": [
    "\n",
    "## Fibonacci with Recursion Example"
   ]
  },
  {
   "cell_type": "markdown",
   "metadata": {},
   "source": [
    "Fibonacci Sequence\n",
    "   - Golden Ratio\n",
    "   - Population Modeling\n",
    "   - Found throughout nature\n",
    "   \n",
    "0,1,1,2,3,5,8,13,21,34,55...\n",
    "\n",
    "Definition - Recurrence Relation\n",
    "F$x_{n}$ = F$x_{n-1}$ + F$x_{n-2}$ "
   ]
  },
  {
   "cell_type": "code",
   "execution_count": 179,
   "metadata": {},
   "outputs": [],
   "source": [
    "def fibonacci_recursion_func(n):\n",
    "    # n is an integer greater than zero\n",
    "    \n",
    "    # base case\n",
    "    if n == 1: \n",
    "        return 1\n",
    "    \n",
    "    # error handling\n",
    "    elif n == 0:\n",
    "        return 0\n",
    "    \n",
    "    # recursive case\n",
    "    else: \n",
    "        return (fibonacci_recursion_func(n-1) + fibonacci_recursion_func(n-2))"
   ]
  },
  {
   "cell_type": "code",
   "execution_count": 182,
   "metadata": {},
   "outputs": [
    {
     "data": {
      "text/plain": [
       "21"
      ]
     },
     "execution_count": 182,
     "metadata": {},
     "output_type": "execute_result"
    }
   ],
   "source": [
    "fibonacci_recursion_func(8)"
   ]
  }
 ],
 "metadata": {
  "kernelspec": {
   "display_name": "Python 3",
   "language": "python",
   "name": "python3"
  },
  "language_info": {
   "codemirror_mode": {
    "name": "ipython",
    "version": 3
   },
   "file_extension": ".py",
   "mimetype": "text/x-python",
   "name": "python",
   "nbconvert_exporter": "python",
   "pygments_lexer": "ipython3",
   "version": "3.7.2"
  }
 },
 "nbformat": 4,
 "nbformat_minor": 2
}
